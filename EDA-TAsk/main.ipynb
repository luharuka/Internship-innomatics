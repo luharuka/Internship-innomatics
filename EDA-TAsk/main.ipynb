{
 "cells": [
  {
   "cell_type": "markdown",
   "id": "b9723087",
   "metadata": {},
   "source": [
    "<h1> Name:- Shubham Luharuka <br> Exploratory Data Analysis(EDA) on Employee dataset <h1>"
   ]
  },
  {
   "cell_type": "markdown",
   "id": "348422e9",
   "metadata": {},
   "source": [
    "<h2> First import all import modules like numpy, pandas, matplotlib,seaborn </h2>"
   ]
  },
  {
   "cell_type": "code",
   "execution_count": null,
   "id": "48f26873",
   "metadata": {},
   "outputs": [],
   "source": [
    "%matplotlib inline\n",
    "import numpy as np\n",
    "import pandas as pd\n",
    "import scipy.stats as stats\n",
    "import matplotlib.pyplot as plt\n",
    "import seaborn as sns\n",
    "print(\"All the important module imported\")"
   ]
  },
  {
   "cell_type": "markdown",
   "id": "ca0c6997",
   "metadata": {},
   "source": [
    "<h2> Dataset Description </h2>\n",
    "<p> The dataset was released by Aspiring Minds from the Aspiring Mind Employment Outcome 2015 (AMEO). The study is primarily limited  only to students with engineering disciplines. The dataset contains the employment outcomes of engineering graduates as dependent variables (Salary, Job Titles, and Job Locations) along with the standardized scores from three different areas – cognitive skills, technical skills and personality skills. The dataset also contains demographic features. The dataset  contains  around  39 independent variables and 3998 data points. The independent variables are both continuous and categorical in nature. The dataset contains a unique ID for each candidate. The variables in the dataset contains different datatypes. </p>\n",
    "<h4> Objectives </h4>\n",
    "<li> Perform EDA to understand the nature of the data\n",
    "<li> Draw some conclusion from the pattern of the data \n",
    "<p> Before, proceding let load the data.</p"
   ]
  },
  {
   "cell_type": "code",
   "execution_count": null,
   "id": "7aa4bcf3",
   "metadata": {},
   "outputs": [],
   "source": [
    "# load dataset\n",
    "class color:\n",
    "    PURPLE = '\\033[95m'\n",
    "    CYAN = '\\033[96m'\n",
    "    DARKCYAN = '\\033[36m'\n",
    "    BLUE = '\\033[94m'\n",
    "    GREEN = '\\033[92m'\n",
    "    YELLOW = '\\033[93m'\n",
    "    RED = '\\033[91m'\n",
    "    BOLD = '\\033[1m'\n",
    "    UNDERLINE = '\\033[4m'\n",
    "    END = '\\033[0m'\n",
    "def load_data(file,exten):\n",
    "    if exten=='xlsx':\n",
    "        return pd.read_excel(file+\".\"+exten)\n",
    "    elif exten=='csv':\n",
    "        return pd.read_csv(file+\".\"+exten)\n",
    "####################################################################################\n",
    "data=load_data('data','xlsx')\n",
    "print(color.RED+color.BOLD+\"Sample of data\"+color.END)\n",
    "print(data.head())"
   ]
  },
  {
   "cell_type": "code",
   "execution_count": null,
   "id": "40805af3",
   "metadata": {},
   "outputs": [],
   "source": [
    "print(\"Imported data id of shape: {}\".format(str(data.shape)))\n",
    "print(color.RED+color.BOLD+\"Data Description\"+color.END)\n",
    "print(data.describe())"
   ]
  },
  {
   "cell_type": "code",
   "execution_count": null,
   "id": "62a13d88",
   "metadata": {},
   "outputs": [],
   "source": [
    "#drop the first unnamed column od dataset because it has no specific meaning\n",
    "data.drop('Unnamed: 0',inplace=True,axis=1)\n",
    "#load all columns\n",
    "columns=data.columns\n",
    "print(columns)"
   ]
  },
  {
   "cell_type": "markdown",
   "id": "c612c5fc",
   "metadata": {},
   "source": [
    "<h2>Univariate Analysis</h2>"
   ]
  },
  {
   "cell_type": "code",
   "execution_count": null,
   "id": "9604f38e",
   "metadata": {},
   "outputs": [],
   "source": [
    "# check the uniqueness of data\n",
    "print(\"All values in the dataset is the are unique :{}\".format(str(len(data['ID'].unique())==len(data))))"
   ]
  },
  {
   "cell_type": "code",
   "execution_count": null,
   "id": "25bd18f4",
   "metadata": {},
   "outputs": [],
   "source": [
    "# info about dataset\n",
    "print(data.info())"
   ]
  },
  {
   "cell_type": "code",
   "execution_count": null,
   "id": "1c1f5341",
   "metadata": {},
   "outputs": [],
   "source": [
    "#box-plot plot of the numerical data to find outliers \n",
    "\n",
    "for i in columns:\n",
    "    if data[i].dtype=='int64' or data[i].dtype=='float64':\n",
    "        f,axes=plt.subplots(1,2,figsize=(15,5))\n",
    "        sns.boxplot(x=data[i],ax=axes[0])\n",
    "        sns.kdeplot(x=data[i],ax=axes[1])\n",
    "        \n",
    "        "
   ]
  },
  {
   "cell_type": "code",
   "execution_count": null,
   "id": "79dd003a",
   "metadata": {},
   "outputs": [],
   "source": [
    "year=pd.DatetimeIndex(data['DOJ']).year\n",
    "sns.countplot(x=year)"
   ]
  },
  {
   "cell_type": "code",
   "execution_count": null,
   "id": "0d9aad5e",
   "metadata": {},
   "outputs": [],
   "source": [
    "plt.bar(data['Designation'].value_counts().index[:10],data['Designation'].value_counts()[:10],)\n",
    "plt.xticks(rotation=90)\n",
    "plt.show()"
   ]
  },
  {
   "cell_type": "code",
   "execution_count": null,
   "id": "392f542d",
   "metadata": {},
   "outputs": [],
   "source": [
    "data['JobCity'].replace(to_replace=-1,value='-1',inplace=True)\n"
   ]
  },
  {
   "cell_type": "code",
   "execution_count": null,
   "id": "d705161e",
   "metadata": {},
   "outputs": [],
   "source": [
    "plt.bar(data['JobCity'].value_counts()[:10].index,data['JobCity'].value_counts()[:10])\n",
    "plt.xticks(rotation=90)\n",
    "plt.show()"
   ]
  },
  {
   "cell_type": "code",
   "execution_count": null,
   "id": "e7dabe6f",
   "metadata": {},
   "outputs": [],
   "source": [
    "sns.countplot(x=data['Gender'])"
   ]
  },
  {
   "cell_type": "code",
   "execution_count": null,
   "id": "98c83e8d",
   "metadata": {},
   "outputs": [],
   "source": [
    "plt.bar(data['Specialization'].value_counts().index,data['Specialization'].value_counts(),)\n",
    "plt.xticks(rotation=90)\n",
    "plt.show()"
   ]
  },
  {
   "cell_type": "code",
   "execution_count": null,
   "id": "c8d1c3d2",
   "metadata": {},
   "outputs": [],
   "source": [
    "plt.bar(data['CollegeState'].value_counts().index,data['CollegeState'].value_counts(),)\n",
    "plt.xticks(rotation=90)\n",
    "plt.show()"
   ]
  },
  {
   "cell_type": "markdown",
   "id": "3ef935db",
   "metadata": {},
   "source": [
    "<h4> Conclusion from Univariate Analysis </h4>\n",
    "<li> Because ID is totally primary so, it should be unique.Therefore it is random</li>\n",
    "<li> From Salary column, we can see it is a right skewed column, means employee in the company have low skill. Many few of them have the a good skill set. </li>\n",
    "<li> Most of the candidate have the 10th percentage from 60 to 95 %. </li>\n",
    "<li> Company hired most of the candidate which have 12th passout year from year 2005 to 2011. 12th percentage will be the not matter at all. Company hired candidates from low to high grades also.</li>\n",
    "<li> Few of the candidates are from Tier1 college and many of them are from Tier 2. </li>\n",
    "<li> College GPA matter a lot . Your changes to getting hired increses if you do good in academic as well.</li>\n",
    "<li>All types of candidates is hired by company. Means English is not important criteria for join the company</li>\n",
    "<li> Most of the candidate is hired in 2014 and comapny  didn't hire so much in 2015. Means company may be increasing its branch.</li>\n",
    "<li> company mostly hires software engineer, software developer system engineer,programmer analyst, systems engineer, java software engineer ,software test engineer, project engineer, technical support engineer, senior software engineer. </li>\n",
    "</li> Company gave job mostly in Bangalore and then Noida.</li>\n",
    "<li> The no of male workers are more than female.</li>\n",
    "<li> Company mostly hire someone who is from Electronics and Computer background</li>\n",
    "\n",
    "\n"
   ]
  },
  {
   "cell_type": "markdown",
   "id": "5e583715",
   "metadata": {},
   "source": [
    "<h2> Bivariate Analysis </h2>"
   ]
  },
  {
   "cell_type": "code",
   "execution_count": null,
   "id": "f2dc29c6",
   "metadata": {},
   "outputs": [],
   "source": [
    "data['DOJ']=pd.DatetimeIndex(data['DOJ']).year\n"
   ]
  },
  {
   "cell_type": "code",
   "execution_count": null,
   "id": "e0a39ed1",
   "metadata": {},
   "outputs": [],
   "source": [
    "data['DOB']=pd.DatetimeIndex(data['DOB']).year"
   ]
  },
  {
   "cell_type": "code",
   "execution_count": null,
   "id": "a7d3bb7a",
   "metadata": {},
   "outputs": [],
   "source": [
    "data.drop(labels=['DOL'],axis=1,inplace=True)"
   ]
  },
  {
   "cell_type": "code",
   "execution_count": null,
   "id": "dcbf6bdb",
   "metadata": {},
   "outputs": [],
   "source": [
    "data['JobCity'].replace(-1,'Unknown',inplace=True)"
   ]
  },
  {
   "cell_type": "code",
   "execution_count": null,
   "id": "253bd0a8",
   "metadata": {},
   "outputs": [],
   "source": [
    "for i in data.columns:\n",
    "    if data[i].dtype=='int64' or data[i].dtype=='float64':\n",
    "        continue\n",
    "    else:\n",
    "        data[i]=data[i].astype('str')"
   ]
  },
  {
   "cell_type": "code",
   "execution_count": null,
   "id": "99d331fc",
   "metadata": {},
   "outputs": [],
   "source": [
    "for j in data.columns[1:]:\n",
    "    for i in data.columns:\n",
    "        if i!=j:\n",
    "            sns.pairplot(y_vars=[j],x_vars=[i],data=data,height=10)\n",
    "            plt.xticks(rotation=90)\n",
    "            plt.show()"
   ]
  },
  {
   "cell_type": "markdown",
   "id": "760e813d",
   "metadata": {},
   "source": [
    "<li> Salary is high for the candidate who done his graduation in B.E/B.Tech with Computer Science or Electronics branch. Candidates having good communication skill in Engish have a good growth in salary. If they have good marks in logical , aptitude, openess to experience,agreebleness, extraversion, it increase the chance to increse the salary is high.  </li>\n",
    "<li> College Tier 1 candidate occupy more position at the top designation.</li>\n",
    "<li> Candidate having BE/Btech degree can have placed at any branch but the candidate having master degree have chance to work in top city.</li>\n",
    "<li> Company gives high salary to male. Male candidates can placed at any branch of company but Females have some options.</li>\n",
    "<li> Males are in almost every branch of Speciallization but females are not in every branch like mechnical and production etc. </li>\n",
    "<li> Candidate having good marks in 10 have high chnage to get in Tier1 college</li>\n",
    "<li> Candidates having good marks in 10th and 12th have more score in the AMCET score.</li>\n",
    "\n"
   ]
  },
  {
   "cell_type": "markdown",
   "id": "a8b1c8ec",
   "metadata": {},
   "source": [
    "<h3>Research Questions</h3>\n",
    "<h2>Times of India article dated Jan 18, 2019 states that “After doing your Computer Science\n",
    "Engineering if you take up jobs as a Programming Analyst, Software Engineer,\n",
    "Hardware Engineer and Associate Engineer you can earn up to 2.5-3 lakhs as a fresh\n",
    "graduate.” Test this claim with the data given to you.</h2>"
   ]
  },
  {
   "cell_type": "code",
   "execution_count": null,
   "id": "db171046",
   "metadata": {},
   "outputs": [],
   "source": [
    "reserch_data=data.loc[(data['Designation']=='programmer analyst') | (data['Designation']=='software engineer')|(data['Designation']=='hardware engineer') | (data['Designation']=='associate engineer')]"
   ]
  },
  {
   "cell_type": "code",
   "execution_count": null,
   "id": "2981bc9b",
   "metadata": {},
   "outputs": [],
   "source": [
    "data['DOJ'].unique()"
   ]
  },
  {
   "cell_type": "code",
   "execution_count": null,
   "id": "ca680d07",
   "metadata": {},
   "outputs": [],
   "source": [
    "reserch_data=reserch_data[reserch_data['ComputerScience']!=-1]"
   ]
  },
  {
   "cell_type": "code",
   "execution_count": null,
   "id": "cab7573c",
   "metadata": {},
   "outputs": [],
   "source": [
    "reserch_data['Salary'].plot(kind='hist')"
   ]
  },
  {
   "cell_type": "markdown",
   "id": "1976d54d",
   "metadata": {},
   "source": [
    "<h3> From the above graph we can see that the statement given by Times of India is <b>True</b>. "
   ]
  },
  {
   "cell_type": "markdown",
   "id": "8943ccba",
   "metadata": {},
   "source": [
    "<h2>Question2:- Is there a relationship between gender and specialisation? (i.e. Does the preference of\n",
    "Specialisation depend on the Gender?</h2>"
   ]
  },
  {
   "cell_type": "code",
   "execution_count": null,
   "id": "a6bc185a",
   "metadata": {},
   "outputs": [],
   "source": [
    "sns.stripplot(x=data['Gender'],y=data['Specialization'])"
   ]
  },
  {
   "cell_type": "markdown",
   "id": "a9342cee",
   "metadata": {},
   "source": [
    "<p> Here, Female candidates is not doing many of the the specialization that is related to mechanical oe instrumental. </p>"
   ]
  },
  {
   "cell_type": "code",
   "execution_count": null,
   "id": "5942a418",
   "metadata": {},
   "outputs": [],
   "source": [
    "sns.stripplot(x=data['Gender'],y=data['Designation'])"
   ]
  },
  {
   "cell_type": "markdown",
   "id": "284d27c4",
   "metadata": {},
   "source": [
    "<p>THere are many designation which is ot given to female candidates</p>"
   ]
  }
 ],
 "metadata": {
  "kernelspec": {
   "display_name": "Python 3 (ipykernel)",
   "language": "python",
   "name": "python3"
  },
  "language_info": {
   "codemirror_mode": {
    "name": "ipython",
    "version": 3
   },
   "file_extension": ".py",
   "mimetype": "text/x-python",
   "name": "python",
   "nbconvert_exporter": "python",
   "pygments_lexer": "ipython3",
   "version": "3.8.5"
  }
 },
 "nbformat": 4,
 "nbformat_minor": 5
}
