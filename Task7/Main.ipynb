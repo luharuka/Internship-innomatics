{
 "cells": [
  {
   "cell_type": "markdown",
   "id": "77b08931",
   "metadata": {},
   "source": [
    "# Descriptive Statistics and Python Implementation"
   ]
  },
  {
   "cell_type": "markdown",
   "id": "7c1a616c",
   "metadata": {},
   "source": [
    "<h6>Import all important modules</h6>"
   ]
  },
  {
   "cell_type": "code",
   "execution_count": 2,
   "id": "a0668f46",
   "metadata": {},
   "outputs": [],
   "source": [
    "import pandas\n",
    "import numpy"
   ]
  },
  {
   "cell_type": "markdown",
   "id": "7fbf8549",
   "metadata": {},
   "source": [
    "<h6>Load Dataset</h6>"
   ]
  },
  {
   "cell_type": "code",
   "execution_count": 127,
   "id": "1791334a",
   "metadata": {},
   "outputs": [
    {
     "name": "stdout",
     "output_type": "stream",
     "text": [
      "Sample data\n",
      "   Mthly_HH_Income  Mthly_HH_Expense  No_of_Fly_Members  Emi_or_Rent_Amt  \\\n",
      "0             5000              8000                  3             2000   \n",
      "1             6000              7000                  2             3000   \n",
      "2            10000              4500                  2                0   \n",
      "3            10000              2000                  1                0   \n",
      "4            12500             12000                  2             3000   \n",
      "\n",
      "   Annual_HH_Income Highest_Qualified_Member  No_of_Earning_Members  \n",
      "0             64200           Under-Graduate                      1  \n",
      "1             79920               Illiterate                      1  \n",
      "2            112800           Under-Graduate                      1  \n",
      "3             97200               Illiterate                      1  \n",
      "4            147000                 Graduate                      1  \n",
      "\n",
      "Dataset Info\n",
      "       Mthly_HH_Income  Mthly_HH_Expense  No_of_Fly_Members  Emi_or_Rent_Amt  \\\n",
      "count        50.000000         50.000000          50.000000        50.000000   \n",
      "mean      41558.000000      18818.000000           4.060000      3060.000000   \n",
      "std       26097.908979      12090.216824           1.517382      6241.434948   \n",
      "min        5000.000000       2000.000000           1.000000         0.000000   \n",
      "25%       23550.000000      10000.000000           3.000000         0.000000   \n",
      "50%       35000.000000      15500.000000           4.000000         0.000000   \n",
      "75%       50375.000000      25000.000000           5.000000      3500.000000   \n",
      "max      100000.000000      50000.000000           7.000000     35000.000000   \n",
      "\n",
      "       Annual_HH_Income  No_of_Earning_Members  \n",
      "count      5.000000e+01              50.000000  \n",
      "mean       4.900190e+05               1.460000  \n",
      "std        3.201358e+05               0.734291  \n",
      "min        6.420000e+04               1.000000  \n",
      "25%        2.587500e+05               1.000000  \n",
      "50%        4.474200e+05               1.000000  \n",
      "75%        5.947200e+05               2.000000  \n",
      "max        1.404000e+06               4.000000  \n"
     ]
    }
   ],
   "source": [
    "data=pandas.read_csv('data.csv')\n",
    "print(\"Sample data\")\n",
    "print(data.head())\n",
    "print()\n",
    "print('Dataset Info')\n",
    "print(data.describe())"
   ]
  },
  {
   "cell_type": "markdown",
   "id": "fd9bbd24",
   "metadata": {},
   "source": [
    "<h1>-----------------------------------------------------------------------------------------------------------------</h1>\n",
    "<h2><b>Description of MEAN</b></h2>\n",
    "<p>In simple word Mean is the arithmetic average of all values in the table.      To find the mean of the table, we so sum of all samples and then divide it by the no of samples in the table</p>\n",
    "<p> Numpy Modules provide method to find mean of the table</p>\n",
    "    \n",
    "![title](images/mean.png)\n",
    "\n",
    "<h3> Formula to find mean </h3>\n",
    "<h3><b>Mean :</b> $$\\bar x = \\frac{1}{n} (\\sum^n_{i=1} x_{i})$$</h3>\n",
    "\n",
    "<h4> Finding MEAN of coulmns of dataset using two way.</h4><ol><li> By using built-in methods in <b>Numpy</b> Modules.  \n",
    "\n",
    "<p> In dataset we have our first column <b>Mthly_HH_Income</b>.<br> numpy.mean() is the method provided by numpy to find the mean."
   ]
  },
  {
   "cell_type": "code",
   "execution_count": 5,
   "id": "eaa2cbe2",
   "metadata": {},
   "outputs": [
    {
     "name": "stdout",
     "output_type": "stream",
     "text": [
      "Mean of the 1st column of dataset is: 41558.0\n"
     ]
    }
   ],
   "source": [
    "print(\"Mean of the 1st column of dataset is: {}\".format(numpy.mean(data['Mthly_HH_Income'])))"
   ]
  },
  {
   "cell_type": "markdown",
   "id": "bc78f625",
   "metadata": {},
   "source": [
    "<p><b>  2.  By writing our own code."
   ]
  },
  {
   "cell_type": "code",
   "execution_count": 6,
   "id": "bfee12fb",
   "metadata": {},
   "outputs": [
    {
     "name": "stdout",
     "output_type": "stream",
     "text": [
      "Mean of given table is : 41558.0\n"
     ]
    }
   ],
   "source": [
    "sum=0\n",
    "for i in data['Mthly_HH_Income']:\n",
    "    sum=sum+i\n",
    "n=len(data['Mthly_HH_Income'])\n",
    "print(\"Mean of given table is : {}\".format(sum/n))"
   ]
  },
  {
   "cell_type": "markdown",
   "id": "d94f4e27",
   "metadata": {},
   "source": [
    "<h1>-----------------------------------------------------------------------------------------------------------------</h1>\n",
    "<h2><b>Description of Median</b></h2>\n",
    "<p>Median is the number which seperates the samples in the table into higher half and lower half.  </p>\n",
    "<p> Numpy Modules provide method to find median of the table</p>\n",
    "    \n",
    "![title](images/median.jpg)\n",
    "\n",
    "<h3> Formula to find median </h3>\n",
    "<h3><b>Median (if n is the odd) :</b> $$median(x) = x_{(n+1)/2}$$</h3>\n",
    "<h3><b>Median (if n is the even) :</b> $$median(x) = \\frac{x_{(n/2)}+x_{(n/2)+1}}{2}$$</h3>\n",
    "\n",
    "<h4> Finding MEDIAN of coulmns of dataset using two way.</h4><ol><li> By using built-in methods in <b>Numpy</b> Modules.  \n",
    "\n",
    "<p> In dataset we have our first column <b>Mthly_HH_Income</b>.<br> numpy.median() is the method provided by numpy to find the median."
   ]
  },
  {
   "cell_type": "code",
   "execution_count": 7,
   "id": "01c22635",
   "metadata": {},
   "outputs": [
    {
     "name": "stdout",
     "output_type": "stream",
     "text": [
      "Mean of the 1st column of dataset is: 35000.0\n"
     ]
    }
   ],
   "source": [
    "print(\"Mean of the 1st column of dataset is: {}\".format(numpy.median(data['Mthly_HH_Income'])))"
   ]
  },
  {
   "cell_type": "code",
   "execution_count": 17,
   "id": "5b05fff2",
   "metadata": {},
   "outputs": [
    {
     "name": "stdout",
     "output_type": "stream",
     "text": [
      "Median of data:  35000\n"
     ]
    }
   ],
   "source": [
    "def median_data(data,col):\n",
    "    a=numpy.sort(data[col])\n",
    "    n=len(a)\n",
    "    if n%2==0:\n",
    "        return (a[(n-1)//2]+a[((n-1)//2)+1])//2\n",
    "    else:\n",
    "        return a[n//2]\n",
    "\n",
    "print(\"Median of data: \",median_data(data,'Mthly_HH_Income'))"
   ]
  },
  {
   "cell_type": "markdown",
   "id": "73aef58d",
   "metadata": {},
   "source": [
    "<h1>-----------------------------------------------------------------------------------------------------------------</h1>\n",
    "<h2><b>Description of Mode</b></h2>\n",
    "<p>Mode is the the sample of the table which appers most often in the table. Mostly we use mode to measure the central tendency where we have to examin the categorical data like types of objects. The most often cited distribution is the classic normal distribution. In this and some other distributions also, the mean value falls at the central-point, which is also the peak frequency of observed values. For such a distribution, the mean, median, and mode are all having same graph. </p>\n",
    "    \n",
    "![title](images/mode.png)\n",
    "\n",
    "<h3> Formula to find Mode </h3>\n",
    "<h3><b>Mode :</b> $$Mode(x) = L+ H(\\frac{f_1-f_0}{2f_1-f_0-f_2})$$</h3>\n",
    "<p> where,<p><p><li>L= Lower limit of the sample class. </li><li>H= Size of the class interval.</li><li>f1 = frequency of the the sample class </li>\n",
    "<li>f0 = frequency of the class preceding the modal class </li>\n",
    "<li>f2 =  frequency of the class succeeding the modal class </li>\n",
    "\n",
    "</p>\n",
    "\n",
    "<h4> Finding MODE of coulmns of dataset using two way.</h4><ol><li> By using built-in methods in <b>statistics</b> Modules.  \n",
    "\n",
    "<p> In dataset we have one column as <b>Highest_Qualified_Member</b>.<br> statistics.mode() is the method provided by module to find the mode."
   ]
  },
  {
   "cell_type": "code",
   "execution_count": 9,
   "id": "22672e9b",
   "metadata": {},
   "outputs": [
    {
     "name": "stdout",
     "output_type": "stream",
     "text": [
      "Mode of the give table is: Graduate\n"
     ]
    }
   ],
   "source": [
    "import statistics as sk\n",
    "print(\"Mode of the give table is: {}\".format(sk.mode(data['Highest_Qualified_Member'])))"
   ]
  },
  {
   "cell_type": "code",
   "execution_count": 10,
   "id": "83dd8c5c",
   "metadata": {},
   "outputs": [
    {
     "data": {
      "text/plain": [
       "['Graduate']"
      ]
     },
     "execution_count": 10,
     "metadata": {},
     "output_type": "execute_result"
    }
   ],
   "source": [
    "def mode_find(data,col):\n",
    "    set_col=data['Highest_Qualified_Member'].unique()\n",
    "    dire={}\n",
    "    for i in set_col:\n",
    "        dire[i]=0\n",
    "    for i in data['Highest_Qualified_Member']:\n",
    "        dire[i]+=1\n",
    "    ans=[]\n",
    "    maxi=max(dire.values())\n",
    "    for i in set_col:\n",
    "        if dire[i]==maxi:\n",
    "            ans.append(i)\n",
    "    return ans\n",
    "mode_find(data,'Highest_Qualified_Member')"
   ]
  },
  {
   "cell_type": "markdown",
   "id": "b6bc2d25",
   "metadata": {},
   "source": [
    "<h1>-----------------------------------------------------------------------------------------------------------------</h1>\n",
    "<h2><b>Description of Variance</b></h2>\n",
    "<p>Variance will tell the how far a set of samples is spread out from their average value. It is denoted by $\\sigma^2$. It is actually the squared of standard deviation. We will talk about std. deviation in next topic. It check the variability from the average. It is calculated by taking the differences between each number in the data set and the mean, then squaring the differences to make them positive, and finally dividing the sum of the squares by the number of values in the data set. </p>\n",
    "<h3> Formula to find Variance </h3>\n",
    "    \n",
    "![title](images/variance.jpg)\n",
    "\n",
    "<h4> Finding VARIANCE of coulmns of dataset using two way.</h4><ol><li> By using built-in methods in <b>statistics</b> Modules.  \n",
    "\n",
    "<p> statistics.varience() is the method provided by module to find the variance."
   ]
  },
  {
   "cell_type": "code",
   "execution_count": 11,
   "id": "4b26e63a",
   "metadata": {},
   "outputs": [
    {
     "name": "stdout",
     "output_type": "stream",
     "text": [
      "VArience of Mthly_HH_Income column of dataset is :681100853.0612245\n",
      "VArience of Mthly_HH_Expense column of dataset is :146173342.85714287\n",
      "VArience of No_of_Fly_Members column of dataset is :2.3024489795918366\n",
      "VArience of Emi_or_Rent_Amt column of dataset is :38955510.20408163\n",
      "VArience of Annual_HH_Income column of dataset is :102486925397.91672\n",
      "VArience of No_of_Earning_Members column of dataset is :0.5391836734693877\n"
     ]
    }
   ],
   "source": [
    "for col in data.columns:\n",
    "    try:\n",
    "        a=int(data[col][0])\n",
    "        print(\"VArience of {} column of dataset is :{}\".format(col,sk.variance(data[col])))\n",
    "    except:\n",
    "        pass"
   ]
  },
  {
   "cell_type": "code",
   "execution_count": 12,
   "id": "4d45fde1",
   "metadata": {},
   "outputs": [
    {
     "name": "stdout",
     "output_type": "stream",
     "text": [
      "Varience of Mthly_HH_Income columns in dataset 681100853.0612245\n",
      "Varience of Mthly_HH_Expense columns in dataset 146173342.85714287\n",
      "Varience of No_of_Fly_Members columns in dataset 2.302448979591837\n",
      "Varience of Emi_or_Rent_Amt columns in dataset 38955510.20408163\n"
     ]
    }
   ],
   "source": [
    "def var_calc(data,col):\n",
    "    mean_val=numpy.mean(data[col])\n",
    "    n=len(data[col])\n",
    "    sum_sq=0\n",
    "    for i in data[col]:\n",
    "        sum_sq+=((i-mean_val)**2)\n",
    "        \n",
    "    return sum_sq/(n-1)\n",
    "\n",
    "for col in data.columns[0:4]:\n",
    "    print(\"Varience of {} columns in dataset {}\".format(col,var_calc(data,col)))\n"
   ]
  },
  {
   "cell_type": "markdown",
   "id": "52245bb4",
   "metadata": {},
   "source": [
    "<h1>-----------------------------------------------------------------------------------------------------------------</h1>\n",
    "<h2><b>Description of Standard Deviation</b></h2>\n",
    "<p>the standard deviation is a measure of the amount of variation or dispersion of a set of values. A low standard deviation indicates that the values tend to be close to the mean (also called the expected value) of the set, while a high standard deviation indicates that the values are spread out over a wider range (Wikipedia). It is denoted by $\\sigma$. S0, we can write it as the square root of variance of samples. </p>\n",
    "<h3> Formula to find Standard Deviation </h3>\n",
    "    \n",
    "![title](images/stddev.jfif)\n",
    "\n",
    "<h4> Finding std. deviation of coulmns of dataset using two way.</h4><ol><li> By using built-in methods in <b>statistics</b> Modules.  \n",
    "\n",
    "<p> statistics.stdev() is the method provided by module to find the std. deviation."
   ]
  },
  {
   "cell_type": "code",
   "execution_count": 13,
   "id": "a50c6448",
   "metadata": {},
   "outputs": [
    {
     "name": "stdout",
     "output_type": "stream",
     "text": [
      "Std. deviation of Mthly_HH_Income column of dataset is :26097.908978713687\n",
      "Std. deviation of Mthly_HH_Expense column of dataset is :12090.216824240286\n",
      "Std. deviation of No_of_Fly_Members column of dataset is :1.5173822786601392\n",
      "Std. deviation of Emi_or_Rent_Amt column of dataset is :6241.434947516607\n",
      "Std. deviation of Annual_HH_Income column of dataset is :320135.7921225253\n",
      "Std. deviation of No_of_Earning_Members column of dataset is :0.7342912729083655\n"
     ]
    }
   ],
   "source": [
    "for col in data.columns:\n",
    "    try:\n",
    "        a=int(data[col][0])\n",
    "        print(\"Std. deviation of {} column of dataset is :{}\".format(col,sk.stdev(data[col])))\n",
    "    except:\n",
    "        pass"
   ]
  },
  {
   "cell_type": "code",
   "execution_count": 14,
   "id": "a8094dec",
   "metadata": {},
   "outputs": [
    {
     "name": "stdout",
     "output_type": "stream",
     "text": [
      "Varience of Mthly_HH_Income columns in dataset 26097.908978713687\n",
      "Varience of Mthly_HH_Expense columns in dataset 12090.216824240286\n",
      "Varience of No_of_Fly_Members columns in dataset 1.5173822786601394\n",
      "Varience of Emi_or_Rent_Amt columns in dataset 6241.434947516607\n"
     ]
    }
   ],
   "source": [
    "for col in data.columns[0:4]:\n",
    "    print(\"Varience of {} columns in dataset {}\".format(col,var_calc(data,col)**0.5))\n"
   ]
  },
  {
   "cell_type": "markdown",
   "id": "30ce7f8e",
   "metadata": {},
   "source": [
    "<h1>-----------------------------------------------------------------------------------------------------------------</h1>\n",
    "<h2><b>Description of Correlation.</b></h2>\n",
    "<p>It is the statistical measure that express the extent to which two variables are linearly related. It is used to measure the relationship without making a statement about cause and effect.</p>\n",
    "<p>There is three types of correlation\n",
    "<li>Positive and negative correlation\n",
    "<li>Linear and non-linear correlation\n",
    "<li>Simple, multiple, and partial correlation</p>\n",
    "\n",
    "\n",
    "<p> <b>POSITIVE CORRELATION: </b> When the correlation coefficient range between [0,1], then it is called positive correaltion. If two variable are positive corelated then if one variable increase the other will also increase.\n",
    "    <br><b>NEGATIVE CORRELATION: </b> When the correlation coefficient range between [-1,0], then it is called negative correaltion. If two variable are negative corelated then if one variable increase the other will decrease.\n",
    "  <br><b>LINEAR COREALTION: </b> When there is linear relationship between two variables in a dataset. Simplly if two variables increase or decrease with almost same factor then there is linear correlation between them. \n",
    " <br><b>NON-LINEAR COREALTION: </b> When there is not a linear relationship between two variables in a dataset. Simply, if two variables is not linear, the rate of increase or decrease can change as one variable changes, causing a \"curved pattern\" in the data.This curved trend might be better modeled by a nonlinear function, such as a quadratic or cubic function, or be transformed to make it linear. \n",
    "<h3> Graph to show the difference between different correaltion </h3>\n",
    "    \n",
    "![title](images/cor.png )\n",
    "\n",
    "\n",
    "\n",
    "<h4> Finding correaltion of coulmns of dataset using two way.</h4><ol><li> By using built-in methods in <b>NUMPY</b> Modules.  </ol>\n",
    "\n",
    "<p>\n",
    "    <li>numpy.corrcoef() is the method to get the correaltion coefficient of the two variables</p\n",
    "        "
   ]
  },
  {
   "cell_type": "code",
   "execution_count": 15,
   "id": "01e3d4d2",
   "metadata": {},
   "outputs": [
    {
     "name": "stdout",
     "output_type": "stream",
     "text": [
      "Correaltion coefficient between the variable Mthly_HH_Income and Emi_or_Rent_Amt of the dataset is [[1.         0.03697611]\n",
      " [0.03697611 1.        ]]\n"
     ]
    }
   ],
   "source": [
    "a=data['Mthly_HH_Income']\n",
    "b=data['Emi_or_Rent_Amt']\n",
    "\n",
    "print('Correaltion coefficient between the variable Mthly_HH_Income and Emi_or_Rent_Amt of the dataset is {}'.format(numpy.corrcoef(a,b)))"
   ]
  },
  {
   "cell_type": "markdown",
   "id": "9cd1a66f",
   "metadata": {},
   "source": [
    "<h1>-----------------------------------------------------------------------------------------------------------------</h1>\n",
    "<h2><b>Description of Normal Distribution.</b></h2>\n",
    "<p>Normal Distribution also known as Gaussian Distribution. It is used to measure the randomness of samples in the dataset. The graph of Normally Distributed sample is symmetric bell shape.Half of the data will fall to the left of the mean; half will fall to the right. The standard deviation controls the spread of the distribution. A smaller standard deviation indicates that the data is tightly clustered around the mean; the normal distribution will be taller. A larger standard deviation indicates that the data is spread out around the mean; the normal distribution will be flatter and wider.</p>\n",
    "<p><b> Properties of Normal-Distribution</b></p>\n",
    "<li> The mean, mode and median are all equal.\n",
    "<li> The curve is symmetric at the center (i.e. around the mean, μ).\n",
    "<li> Exactly half of the values are to the left of center and exactly half the values are to the right.\n",
    "<li>The total area under the curve is 1.\n",
    "\n",
    "\n",
    "<h3> Graph to show the normal distribution </h3>\n",
    "    \n",
    "![title](images/normal.png )\n",
    "\n",
    "<p> It is a type of continous probability distribution for a real values random variables. General form of its probability density function is </p>\n",
    "\n",
    "![title](images/nor_for.jpg )\n",
    "\n",
    "<p>here, special sign have their usual meaning as used before.</p>\n",
    "  \n",
    "<p> Below is the python program for calculating probability distribution of the given set of samples.</p >"
   ]
  },
  {
   "cell_type": "code",
   "execution_count": 19,
   "id": "5deb4c84",
   "metadata": {},
   "outputs": [
    {
     "data": {
      "image/png": "[encoded data removed]",
      "text/plain": [
       "<Figure size 432x288 with 1 Axes>"
      ]
     },
     "metadata": {
      "needs_background": "light"
     },
     "output_type": "display_data"
    }
   ],
   "source": [
    "# load matplot lib for display graph\n",
    "import matplotlib.pyplot as plt\n",
    "x=data['Mthly_HH_Income']\n",
    "#Creating a Function.\n",
    "def normal_dist(x , mean , sd):\n",
    "    prob_density = (numpy.pi*sd) * numpy.exp(-0.5*((x-mean)/sd)**2)\n",
    "    return prob_density\n",
    " \n",
    "#Calculate mean and Standard deviation.\n",
    "mean = numpy.mean(x)\n",
    "sd = numpy.std(x)\n",
    " \n",
    "#Apply function to the data.\n",
    "pdf = normal_dist(x,mean,sd)\n",
    " \n",
    "#Plotting the Results\n",
    "plt.plot(x,pdf)\n",
    "plt.xlabel('Data points')\n",
    "plt.ylabel('Probability Density')\n",
    "plt.show()"
   ]
  },
  {
   "cell_type": "markdown",
   "id": "54644860",
   "metadata": {},
   "source": [
    "<h2>Features of the Normal Distribution</h2>\n",
    "<li>symmetric bell shape\n",
    "<li>The normal curve is unimodel.\n",
    "<li>Normal curve is a smooth curve:\n",
    "\n",
    "<li>mean and median are equal; both located at the center of the distribution\n",
    "<li>$\\approx68\\%$ of the data falls within 1 standard deviation of the mean\n",
    "<li>$\\approx95\\%$ of the data falls within 2 standard deviations of the mean\n",
    "<li>$\\approx99.7\\%$ of the data falls within 3 standard deviations of the mean"
   ]
  },
  {
   "cell_type": "markdown",
   "id": "cfde88f5",
   "metadata": {},
   "source": [
    "<h2>Positively Skewed & Negatively Skewed Normal Distribution</h2>\n",
    "<p> When there is asymmetry or deviation of curve from the symmertic bell curve, wheather it is right or left it is said to be skewed. If we talk about normal Distribution it has zero skew.</p>\n",
    "<p><b>There is two types of skew</b>\n",
    "    <li><b>Positive Skew :</b> If the bell curve is deviated towards right side then it is positive skewed.If tail is on the right as that of the second image in the figure, it is right skewed data. It is also called positive skewed data. Common transformations of this data include square root, cube root, and log.\n",
    "    <li><b>Negative Skew :</b> If the bell curve is deviated towards left side then it is negative skewed.If the tail is to the left of data, then it is called left skewed data. It is also called negatively skewed data. Common transformations include square , cube root and logarithmic.\n",
    "</p>\n",
    "\n",
    "\n",
    "![title](images/skew.png )\n",
    "\n",
    "\n",
    "<h4> Pandas Module provide a method skew() to calculate the skewness in the dataset.</h4>\n"
   ]
  },
  {
   "cell_type": "code",
   "execution_count": 20,
   "id": "24bf6ed6",
   "metadata": {},
   "outputs": [
    {
     "name": "stdout",
     "output_type": "stream",
     "text": [
      "Skewness of data['Mthly_HH_Income'] is 0.9246148763777229\n"
     ]
    }
   ],
   "source": [
    "print(\"Skewness of data['Mthly_HH_Income'] is {}\".format(data['Mthly_HH_Income'].skew(axis=0)))"
   ]
  },
  {
   "cell_type": "markdown",
   "id": "7a4fe95b",
   "metadata": {},
   "source": [
    "<h3>Formula to calculate Skewness</h3>\n",
    "$$skewness=\\frac{3(mean-median)}{std. deviation}$$"
   ]
  },
  {
   "cell_type": "code",
   "execution_count": 43,
   "id": "7daa6d15",
   "metadata": {},
   "outputs": [
    {
     "name": "stdout",
     "output_type": "stream",
     "text": [
      "Skewness of given col is :0.9149408033669727\n"
     ]
    }
   ],
   "source": [
    "def skewness(data,col):\n",
    "    mean=numpy.mean(data[col])\n",
    "    stdev=numpy.std(data[col])\n",
    "    sumi=0\n",
    "    for i in data[col]:\n",
    "        sumi+=((i-mean)**3)\n",
    "    return sumi/((len(data1)-1)*(stdev**3))\n",
    "print('Skewness of given col is :{}'.format(skewness(data,'Mthly_HH_Income')))"
   ]
  },
  {
   "cell_type": "markdown",
   "id": "dd6cf471",
   "metadata": {},
   "source": [
    "<h2>Effect on Mean, Median and Mode due to Skewness</h2>"
   ]
  },
  {
   "cell_type": "markdown",
   "id": "83c56118",
   "metadata": {},
   "source": [
    "<p><b>Let suppose we have a set of element: [1,2,2,3,3,3,4,4,4,4,5,5,5,6,6,7]</b><br>If we make a graph of this data then we got something like this</p>\n",
    "\n",
    "\n",
    "![title](images/bar.jpg )\n",
    "\n",
    "<p> in this image, we can see the the symmertical distribution of data.  In a perfectly symmetrical distribution, the mean and the median are the same. This example has one mode (unimodal), and the mode is the same as the mean and median. For this case, mean, median, mode all are same and equal to 4.  In a symmetrical distribution that has two modes (bimodal), the two modes would be different from the mean and median. </p><br>\n",
    "<p><b>But, If we consider the set : [1,2,2,3,3,3,4,4,4,4,5,5,5,5,5,6,6,6,7] the graph which we are getting is</b></p>\n",
    "\n",
    "![title](images/bar2.jpg )\n",
    "\n",
    "<p> then we can see that it is right-hand side seems \"chopped off\" compared to the left side. A distribution of this type is called skewed to the left because it is pulled out to the left. Here we can see that mean=4.21, median=4, mode=5. If we observe then we can find mean is less than median and median is less than mode.</p>\n",
    "\n",
    "<p><b> In last case if the starting elements are larger in no then is is right skewed. Suppose if the set of element is [1,2,2,3,3,3,3,3,4,4,4,5,5,5,6,6,7] then the graph of the given set is </b></p>\n",
    "\n",
    "![title](images/bar3.jpg)\n",
    "\n",
    "<p> in this case, we can see that mean is 4.1, median is 4.0, and mode is 3.Of the three statistics, the mean is the largest, while the mode is the smallest. Again, the mean reflects the skewing the most.<br><b>So, The Conclusion is that the mean and the median both reflect the skewing, but the mean reflects it more so.</b></p> \n",
    "\n"
   ]
  },
  {
   "cell_type": "markdown",
   "id": "1b22d006",
   "metadata": {},
   "source": [
    "<h2>Explain QQ Plot and show the implementation of the same</h2>"
   ]
  },
  {
   "cell_type": "markdown",
   "id": "abcd7c27",
   "metadata": {},
   "source": [
    "<p>Q-Q Plot abbriviated as Quantile-Quantile Plot. It is the method to represent the two variables of data that came from the same population or not graphically. Before proceeding let understand Quantile. It is the fraction of points below the given value.<br><b> Formula to get Quantile:</b> </p>\n",
    "\n",
    "![title](images/quar.jpg)\n",
    "\n",
    "<p>In Q-Q plot We draw a line with angle 45 deg. If the samples are from the same population then the points are along this line. </p>\n",
    "\n",
    "<h3> Reason of using Q-Q plot </h3>\n",
    "<li> Check whether the two samples have same probabilty distribution shape\n",
    "<li> Check whether the two samples have same tail.\n",
    "<li> Check whether the two samples are from same population or not.\n",
    "<li> Check whether the two samples have common location behaviour\n",
    "    \n",
    "<h3> Steps to draw the Q-Q plot </h3>\n",
    "<li> <b>Step1:</b> Collect data.\n",
    "<li> <b>Step2:</b> Sorting of data\n",
    "<li> <b>Step3:</b> Plot normal-Distribution curve\n",
    "<li> <b>Step4:</b> Find the z-value for each segment.\n",
    "<li> <b>Step5:</b> Plot the dataset value against the normalizing cut-off points. \n",
    "<h3> Figure shows the different types of Q-Q plot</h3>\n",
    "    \n",
    "![title](images/nor.jpeg)\n",
    "    \n",
    "<h3> Python code to draw the Q-Q plot</h3>"
   ]
  },
  {
   "cell_type": "code",
   "execution_count": 111,
   "id": "2cd057e2",
   "metadata": {},
   "outputs": [
    {
     "data": {
      "image/png": "[encoded data removed]",
      "text/plain": [
       "<Figure size 432x288 with 1 Axes>"
      ]
     },
     "metadata": {
      "needs_background": "light"
     },
     "output_type": "display_data"
    }
   ],
   "source": [
    "import scipy.stats as stats\n",
    "import numpy as np\n",
    "import matplotlib.pyplot as plt\n",
    "%matplotlib inline\n",
    "# samples of the data\n",
    "x=np.random.normal(10,3,2000)\n",
    "#probabilty distribution plotting\n",
    "stats.probplot(x,dist=\"norm\", plot=plt)\n",
    "plt.show()"
   ]
  },
  {
   "cell_type": "markdown",
   "id": "915af5a7",
   "metadata": {},
   "source": [
    "<h1>--------------------------------------------------------------------------------------------------------------</h1>\n",
    "<h2>Explain Box Cox and show the implementation of the same</h2>\n",
    "<p>When the assumption of data normally distributed is violated or the relationship between the dependent and independent variables in case of linear model are not linear, in such situations some transformations methods that may help the data set follow a normal distribution. Box Cox is one such transformation method.<br>\n",
    "    <b> Two assumption of Box-Cox transformation are:</b>\n",
    "    <li> Data must be positive\n",
    "    <li> Data should be continous.\n",
    "</p>\n",
    "<h3>The Box-Cox Equation</h3>\n",
    "\n",
    "![title](images/boxcox.jpg)\n",
    "\n",
    "<p> here, lambda is the parameter that we choose.<br>Scipy has a boxcox function that will choose the optimal value of lambda for us. <b> Syntax:  scipy.stats.boxcox()</b></p>"
   ]
  },
  {
   "cell_type": "code",
   "execution_count": 130,
   "id": "867953ea",
   "metadata": {},
   "outputs": [
    {
     "data": {
      "text/plain": [
       "<Figure size 576x576 with 0 Axes>"
      ]
     },
     "metadata": {},
     "output_type": "display_data"
    },
    {
     "data": {
      "image/png": "[encoded data removed]",
      "text/plain": [
       "<Figure size 360x360 with 1 Axes>"
      ]
     },
     "metadata": {
      "needs_background": "light"
     },
     "output_type": "display_data"
    }
   ],
   "source": [
    "#python code to do the boxcox implementation\n",
    "from scipy.stats import boxcox\n",
    "print(\"Histogram plot for the first column of dataset\")\n",
    "plt.figure(figsize = (8, 8))\n",
    "data1 = data['Mthly_HH_Income']\n",
    "sns.displot(data1)\n",
    "plt.show()"
   ]
  },
  {
   "cell_type": "code",
   "execution_count": 132,
   "id": "19fd9c15",
   "metadata": {},
   "outputs": [
    {
     "name": "stdout",
     "output_type": "stream",
     "text": [
      "After boxCox transformation of first column of dataset\n"
     ]
    },
    {
     "data": {
      "text/plain": [
       "<Figure size 576x576 with 0 Axes>"
      ]
     },
     "metadata": {},
     "output_type": "display_data"
    },
    {
     "data": {
      "image/png": "[encoded data removed]",
      "text/plain": [
       "<Figure size 360x360 with 1 Axes>"
      ]
     },
     "metadata": {
      "needs_background": "light"
     },
     "output_type": "display_data"
    }
   ],
   "source": [
    "print(\"After boxCox transformation of first column of dataset\")\n",
    "tdata = boxcox(data1)[0]\n",
    "plt.figure(figsize = (8, 8))\n",
    "sns.displot(tdata)\n",
    "plt.show()"
   ]
  },
  {
   "cell_type": "code",
   "execution_count": 123,
   "id": "746f8d96",
   "metadata": {},
   "outputs": [],
   "source": []
  },
  {
   "cell_type": "code",
   "execution_count": null,
   "id": "5d74f34f",
   "metadata": {},
   "outputs": [],
   "source": []
  },
  {
   "cell_type": "code",
   "execution_count": null,
   "id": "55c2bc78",
   "metadata": {},
   "outputs": [],
   "source": []
  },
  {
   "cell_type": "code",
   "execution_count": null,
   "id": "c57d8692",
   "metadata": {},
   "outputs": [],
   "source": []
  },
  {
   "cell_type": "code",
   "execution_count": null,
   "id": "89273528",
   "metadata": {},
   "outputs": [],
   "source": []
  },
  {
   "cell_type": "code",
   "execution_count": null,
   "id": "647dab9f",
   "metadata": {},
   "outputs": [],
   "source": []
  }
 ],
 "metadata": {
  "kernelspec": {
   "display_name": "Python 3 (ipykernel)",
   "language": "python",
   "name": "python3"
  },
  "language_info": {
   "codemirror_mode": {
    "name": "ipython",
    "version": 3
   },
   "file_extension": ".py",
   "mimetype": "text/x-python",
   "name": "python",
   "nbconvert_exporter": "python",
   "pygments_lexer": "ipython3",
   "version": "3.8.5"
  }
 },
 "nbformat": 4,
 "nbformat_minor": 5
}
