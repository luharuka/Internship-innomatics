{
 "cells": [
  {
   "cell_type": "markdown",
   "id": "f3750bc7",
   "metadata": {},
   "source": [
    "# Name: Shubham Luharuka\n",
    "# Email: shubhaml_cs19.rvitm@rvei.edu.in"
   ]
  },
  {
   "cell_type": "code",
   "execution_count": null,
   "id": "f00339cb",
   "metadata": {},
   "outputs": [],
   "source": [
    "# Load all important libraries"
   ]
  },
  {
   "cell_type": "code",
   "execution_count": 170,
   "id": "d55040d0",
   "metadata": {},
   "outputs": [],
   "source": [
    "import matplotlib.pyplot as plt\n",
    "import numpy as np\n",
    "import pandas as pd"
   ]
  },
  {
   "cell_type": "code",
   "execution_count": null,
   "id": "81cc3cfb",
   "metadata": {},
   "outputs": [],
   "source": [
    "# Load the dataset"
   ]
  },
  {
   "cell_type": "code",
   "execution_count": 171,
   "id": "ffeb9318",
   "metadata": {},
   "outputs": [
    {
     "name": "stdout",
     "output_type": "stream",
     "text": [
      "           x1          x2  y\n",
      "0 -119.366669  115.000000  1\n",
      "1 -101.108045   97.777159  1\n",
      "2 -130.278658  106.767654  1\n",
      "3 -114.703415  101.195477  1\n",
      "4 -119.366669  115.000000  1\n",
      "\n",
      "Length of data 2227\n"
     ]
    }
   ],
   "source": [
    "data=pd.read_csv(r'C:\\Users\\luhar\\DAA project\\Innomatics Research Lab Test\\data.csv') # give the filepath\n",
    "print(data.head())\n",
    "print()\n",
    "print(\"Length of data\", len(data))"
   ]
  },
  {
   "cell_type": "code",
   "execution_count": 176,
   "id": "2ddb56bf",
   "metadata": {},
   "outputs": [
    {
     "data": {
      "text/plain": [
       "x1    5\n",
       "x2    3\n",
       "y     0\n",
       "dtype: int64"
      ]
     },
     "execution_count": 176,
     "metadata": {},
     "output_type": "execute_result"
    }
   ],
   "source": [
    "data.isnull().sum()"
   ]
  },
  {
   "cell_type": "code",
   "execution_count": 177,
   "id": "3529a08e",
   "metadata": {},
   "outputs": [],
   "source": [
    "mean_of_1=data[data['y']==1]['x1'].mean()\n",
    "mean_of_0=data[data['y']==0]['x1'].mean()"
   ]
  },
  {
   "cell_type": "code",
   "execution_count": 178,
   "id": "0f92146d",
   "metadata": {},
   "outputs": [
    {
     "name": "stderr",
     "output_type": "stream",
     "text": [
      "C:\\Users\\luhar\\AppData\\Local\\Temp/ipykernel_25052/1828790503.py:4: SettingWithCopyWarning: \n",
      "A value is trying to be set on a copy of a slice from a DataFrame\n",
      "\n",
      "See the caveats in the documentation: https://pandas.pydata.org/pandas-docs/stable/user_guide/indexing.html#returning-a-view-versus-a-copy\n",
      "  data['x1'][i]=mean_of_1\n",
      "C:\\Users\\luhar\\AppData\\Local\\Temp/ipykernel_25052/1828790503.py:6: SettingWithCopyWarning: \n",
      "A value is trying to be set on a copy of a slice from a DataFrame\n",
      "\n",
      "See the caveats in the documentation: https://pandas.pydata.org/pandas-docs/stable/user_guide/indexing.html#returning-a-view-versus-a-copy\n",
      "  data['x1'][i]=mean_of_0\n"
     ]
    }
   ],
   "source": [
    "data[data['x1'].isnull()].index\n",
    "for i in data[data['x1'].isnull()].index:\n",
    "    if data['y'][i]==1:\n",
    "        data['x1'][i]=mean_of_1\n",
    "    else:\n",
    "        data['x1'][i]=mean_of_0 \n",
    "    "
   ]
  },
  {
   "cell_type": "code",
   "execution_count": 179,
   "id": "27acad21",
   "metadata": {},
   "outputs": [],
   "source": [
    "mean_of_1_x2=data[data['y']==1]['x2'].mean()\n",
    "mean_of_0_x2=data[data['y']==0]['x2'].mean()"
   ]
  },
  {
   "cell_type": "code",
   "execution_count": 180,
   "id": "9b4ab75d",
   "metadata": {},
   "outputs": [
    {
     "name": "stderr",
     "output_type": "stream",
     "text": [
      "C:\\Users\\luhar\\AppData\\Local\\Temp/ipykernel_25052/2998850593.py:4: SettingWithCopyWarning: \n",
      "A value is trying to be set on a copy of a slice from a DataFrame\n",
      "\n",
      "See the caveats in the documentation: https://pandas.pydata.org/pandas-docs/stable/user_guide/indexing.html#returning-a-view-versus-a-copy\n",
      "  data['x2'][i]=mean_of_1\n",
      "C:\\Users\\luhar\\AppData\\Local\\Temp/ipykernel_25052/2998850593.py:6: SettingWithCopyWarning: \n",
      "A value is trying to be set on a copy of a slice from a DataFrame\n",
      "\n",
      "See the caveats in the documentation: https://pandas.pydata.org/pandas-docs/stable/user_guide/indexing.html#returning-a-view-versus-a-copy\n",
      "  data['x2'][i]=mean_of_0\n"
     ]
    }
   ],
   "source": [
    "data[data['x2'].isnull()].index\n",
    "for i in data[data['x2'].isnull()].index:\n",
    "    if data['y'][i]==1:\n",
    "        data['x2'][i]=mean_of_1\n",
    "    else:\n",
    "        data['x2'][i]=mean_of_0 \n",
    "    "
   ]
  },
  {
   "cell_type": "code",
   "execution_count": 181,
   "id": "0973f158",
   "metadata": {},
   "outputs": [
    {
     "data": {
      "text/plain": [
       "x1    0\n",
       "x2    0\n",
       "y     0\n",
       "dtype: int64"
      ]
     },
     "execution_count": 181,
     "metadata": {},
     "output_type": "execute_result"
    }
   ],
   "source": [
    "data.isnull().sum()"
   ]
  },
  {
   "cell_type": "code",
   "execution_count": 182,
   "id": "fef41a05",
   "metadata": {},
   "outputs": [],
   "source": [
    "# Using The min-max feature scaling"
   ]
  },
  {
   "cell_type": "code",
   "execution_count": 183,
   "id": "3f8ffc46",
   "metadata": {},
   "outputs": [
    {
     "name": "stdout",
     "output_type": "stream",
     "text": [
      "            x1        x2    y\n",
      "0     0.055797  0.000002  1.0\n",
      "1     0.123703  0.000002  1.0\n",
      "2     0.015213  0.000002  1.0\n",
      "3     0.073140  0.000002  1.0\n",
      "4     0.055797  0.000002  1.0\n",
      "...        ...       ...  ...\n",
      "2222  0.866874  0.000002  0.0\n",
      "2223  0.859135  0.000002  0.0\n",
      "2224  0.818376  0.000002  0.0\n",
      "2225  0.793401  0.000002  0.0\n",
      "2226  0.907450  1.000000  0.0\n",
      "\n",
      "[2227 rows x 3 columns]\n"
     ]
    }
   ],
   "source": [
    "data_min_max_scaled = data.copy()\n",
    "\n",
    "for column in data_min_max_scaled.columns:\n",
    "    data_min_max_scaled[column] = (data_min_max_scaled[column] - data_min_max_scaled[column].min()) / (data_min_max_scaled[column].max() - data_min_max_scaled[column].min())\t\n",
    "\n",
    "# view normalized data\n",
    "print(data_min_max_scaled)"
   ]
  },
  {
   "cell_type": "code",
   "execution_count": 188,
   "id": "50e4950f",
   "metadata": {},
   "outputs": [
    {
     "data": {
      "image/png": "[encoded data removed]",
      "text/plain": [
       "<Figure size 3600x360 with 1 Axes>"
      ]
     },
     "metadata": {
      "needs_background": "light"
     },
     "output_type": "display_data"
    }
   ],
   "source": [
    "f=plt.figure()\n",
    "f.set_figwidth(50)\n",
    "f.set_figheight(5)\n",
    "plt.scatter(data_min_max_scaled['x1'],data_min_max_scaled['y'])\n",
    "plt.show()"
   ]
  },
  {
   "cell_type": "code",
   "execution_count": 189,
   "id": "fce91a4b",
   "metadata": {},
   "outputs": [],
   "source": [
    "# Splitting dataset into training and testing part"
   ]
  },
  {
   "cell_type": "code",
   "execution_count": 191,
   "id": "69ad735b",
   "metadata": {},
   "outputs": [],
   "source": [
    "from sklearn.model_selection import train_test_split\n",
    "X_train,X_test,y_train,y_test=train_test_split(data_min_max_scaled.iloc[:,0:2],data_min_max_scaled.iloc[:,2],test_size=0.20,random_state=0)"
   ]
  },
  {
   "cell_type": "code",
   "execution_count": 192,
   "id": "46c56b11",
   "metadata": {},
   "outputs": [
    {
     "name": "stdout",
     "output_type": "stream",
     "text": [
      "            x1            x2\n",
      "1508  0.883094  1.939553e-06\n",
      "1106  0.677974  1.594622e-06\n",
      "847   0.309593  1.242657e-06\n",
      "1753  0.419476  9.681020e-07\n",
      "2214  0.859285  2.069047e-06\n",
      "Length of X_train 1781\n"
     ]
    }
   ],
   "source": [
    "print(X_train.head())\n",
    "print(\"Length of X_train\",len(X_train))"
   ]
  },
  {
   "cell_type": "markdown",
   "id": "9f68c4b1",
   "metadata": {},
   "source": [
    "# Implementing Logistic Regression"
   ]
  },
  {
   "cell_type": "code",
   "execution_count": 217,
   "id": "a59e0df6",
   "metadata": {},
   "outputs": [],
   "source": [
    "from sklearn.linear_model import LogisticRegression\n",
    "logreg_model = LogisticRegression(dual=False,solver='liblinear')\n",
    "logreg_model.fit(X_train,y_train)\n",
    "y_pred=logreg_model.predict(X_test)"
   ]
  },
  {
   "cell_type": "code",
   "execution_count": 218,
   "id": "d9ad6034",
   "metadata": {},
   "outputs": [
    {
     "name": "stdout",
     "output_type": "stream",
     "text": [
      "[[198  44]\n",
      " [136  68]]\n",
      "\n",
      "\n",
      "              precision    recall  f1-score   support\n",
      "\n",
      "         0.0       0.59      0.82      0.69       242\n",
      "         1.0       0.61      0.33      0.43       204\n",
      "\n",
      "    accuracy                           0.60       446\n",
      "   macro avg       0.60      0.58      0.56       446\n",
      "weighted avg       0.60      0.60      0.57       446\n",
      "\n"
     ]
    }
   ],
   "source": [
    "from sklearn.metrics import confusion_matrix,classification_report\n",
    "print(confusion_matrix(y_test,y_pred))\n",
    "print(\"\\n\")\n",
    "print(classification_report(y_test,y_pred))"
   ]
  },
  {
   "cell_type": "code",
   "execution_count": 219,
   "id": "561e9f27",
   "metadata": {},
   "outputs": [
    {
     "name": "stdout",
     "output_type": "stream",
     "text": [
      "Training set score for SVM: 0.581134\n",
      "Testing  set score for SVM: 0.596413\n"
     ]
    }
   ],
   "source": [
    "print(\"Training set score for logistic regression: %f\" % logreg_model.score(X_train , y_train))\n",
    "print(\"Testing  set score for logistic regression: %f\" % logreg_model.score(X_test  , y_test ))"
   ]
  },
  {
   "cell_type": "markdown",
   "id": "a38c8b56",
   "metadata": {},
   "source": [
    "# SVM with Linear Kernel"
   ]
  },
  {
   "cell_type": "code",
   "execution_count": 237,
   "id": "2ec181db",
   "metadata": {},
   "outputs": [],
   "source": [
    "from sklearn.svm import SVC\n",
    "from sklearn.model_selection import cross_val_score, GridSearchCV\n",
    "params_grid = [{'kernel': ['linear'], 'C': [1, 10, 100, 1000]}]\n",
    "svm_model = GridSearchCV(SVC(), params_grid, cv=10)"
   ]
  },
  {
   "cell_type": "code",
   "execution_count": 238,
   "id": "26d009ab",
   "metadata": {},
   "outputs": [
    {
     "data": {
      "text/plain": [
       "GridSearchCV(cv=10, estimator=SVC(),\n",
       "             param_grid=[{'C': [1, 10, 100, 1000], 'kernel': ['linear']}])"
      ]
     },
     "execution_count": 238,
     "metadata": {},
     "output_type": "execute_result"
    }
   ],
   "source": [
    "svm_model.fit(X_train,y_train)"
   ]
  },
  {
   "cell_type": "code",
   "execution_count": 239,
   "id": "a859bdfe",
   "metadata": {},
   "outputs": [],
   "source": [
    "y_pred = svm_model.best_estimator_.predict(X_test)"
   ]
  },
  {
   "cell_type": "code",
   "execution_count": 240,
   "id": "216fa2d3",
   "metadata": {},
   "outputs": [
    {
     "name": "stdout",
     "output_type": "stream",
     "text": [
      "[[242   0]\n",
      " [204   0]]\n",
      "\n",
      "\n",
      "              precision    recall  f1-score   support\n",
      "\n",
      "         0.0       0.54      1.00      0.70       242\n",
      "         1.0       0.00      0.00      0.00       204\n",
      "\n",
      "    accuracy                           0.54       446\n",
      "   macro avg       0.27      0.50      0.35       446\n",
      "weighted avg       0.29      0.54      0.38       446\n",
      "\n"
     ]
    },
    {
     "name": "stderr",
     "output_type": "stream",
     "text": [
      "C:\\Users\\luhar\\AppData\\Roaming\\Python\\Python38\\site-packages\\sklearn\\metrics\\_classification.py:1248: UndefinedMetricWarning: Precision and F-score are ill-defined and being set to 0.0 in labels with no predicted samples. Use `zero_division` parameter to control this behavior.\n",
      "  _warn_prf(average, modifier, msg_start, len(result))\n",
      "C:\\Users\\luhar\\AppData\\Roaming\\Python\\Python38\\site-packages\\sklearn\\metrics\\_classification.py:1248: UndefinedMetricWarning: Precision and F-score are ill-defined and being set to 0.0 in labels with no predicted samples. Use `zero_division` parameter to control this behavior.\n",
      "  _warn_prf(average, modifier, msg_start, len(result))\n",
      "C:\\Users\\luhar\\AppData\\Roaming\\Python\\Python38\\site-packages\\sklearn\\metrics\\_classification.py:1248: UndefinedMetricWarning: Precision and F-score are ill-defined and being set to 0.0 in labels with no predicted samples. Use `zero_division` parameter to control this behavior.\n",
      "  _warn_prf(average, modifier, msg_start, len(result))\n"
     ]
    }
   ],
   "source": [
    "from sklearn.metrics import confusion_matrix,classification_report\n",
    "print(confusion_matrix(y_test,y_pred))\n",
    "print(\"\\n\")\n",
    "print(classification_report(y_test,y_pred))"
   ]
  },
  {
   "cell_type": "code",
   "execution_count": 241,
   "id": "b6d47153",
   "metadata": {},
   "outputs": [
    {
     "name": "stdout",
     "output_type": "stream",
     "text": [
      "Training set score for SVM: 0.561482\n",
      "Testing  set score for SVM: 0.542601\n"
     ]
    }
   ],
   "source": [
    "print(\"Training set score for SVM_linear: %f\" % svm_model.score(X_train , y_train))\n",
    "print(\"Testing  set score for SVM_linear: %f\" % svm_model.score(X_test  , y_test ))"
   ]
  },
  {
   "cell_type": "markdown",
   "id": "145e22b8",
   "metadata": {},
   "source": [
    "# SVM with Radial Bias Function"
   ]
  },
  {
   "cell_type": "code",
   "execution_count": 301,
   "id": "ac973cd4",
   "metadata": {},
   "outputs": [],
   "source": [
    "params_grid = [{'kernel': ['rbf'], 'gamma': [1e-2,1e-3,1e-4,1e-5,1e-6,1e-7,1e-8, 1e-10],'C': [1, 10, 100, 1000]}]\n",
    "svm_model = GridSearchCV(SVC(), params_grid, cv=10)"
   ]
  },
  {
   "cell_type": "code",
   "execution_count": 302,
   "id": "21e78d8f",
   "metadata": {},
   "outputs": [
    {
     "data": {
      "text/plain": [
       "GridSearchCV(cv=10, estimator=SVC(),\n",
       "             param_grid=[{'C': [1, 10, 100, 1000],\n",
       "                          'gamma': [0.01, 0.001, 0.0001, 1e-05, 1e-06, 1e-07,\n",
       "                                    1e-08, 1e-10],\n",
       "                          'kernel': ['rbf']}])"
      ]
     },
     "execution_count": 302,
     "metadata": {},
     "output_type": "execute_result"
    }
   ],
   "source": [
    "svm_model.fit(X_train,y_train)"
   ]
  },
  {
   "cell_type": "code",
   "execution_count": 303,
   "id": "1b6f4dd2",
   "metadata": {},
   "outputs": [],
   "source": [
    "final_model=svm_model.best_estimator_\n",
    "y_pred = final_model.predict(X_test)"
   ]
  },
  {
   "cell_type": "code",
   "execution_count": 304,
   "id": "7955183b",
   "metadata": {},
   "outputs": [
    {
     "name": "stdout",
     "output_type": "stream",
     "text": [
      "[[242   0]\n",
      " [204   0]]\n",
      "\n",
      "\n",
      "              precision    recall  f1-score   support\n",
      "\n",
      "         0.0       0.54      1.00      0.70       242\n",
      "         1.0       0.00      0.00      0.00       204\n",
      "\n",
      "    accuracy                           0.54       446\n",
      "   macro avg       0.27      0.50      0.35       446\n",
      "weighted avg       0.29      0.54      0.38       446\n",
      "\n"
     ]
    },
    {
     "name": "stderr",
     "output_type": "stream",
     "text": [
      "C:\\Users\\luhar\\AppData\\Roaming\\Python\\Python38\\site-packages\\sklearn\\metrics\\_classification.py:1248: UndefinedMetricWarning: Precision and F-score are ill-defined and being set to 0.0 in labels with no predicted samples. Use `zero_division` parameter to control this behavior.\n",
      "  _warn_prf(average, modifier, msg_start, len(result))\n",
      "C:\\Users\\luhar\\AppData\\Roaming\\Python\\Python38\\site-packages\\sklearn\\metrics\\_classification.py:1248: UndefinedMetricWarning: Precision and F-score are ill-defined and being set to 0.0 in labels with no predicted samples. Use `zero_division` parameter to control this behavior.\n",
      "  _warn_prf(average, modifier, msg_start, len(result))\n",
      "C:\\Users\\luhar\\AppData\\Roaming\\Python\\Python38\\site-packages\\sklearn\\metrics\\_classification.py:1248: UndefinedMetricWarning: Precision and F-score are ill-defined and being set to 0.0 in labels with no predicted samples. Use `zero_division` parameter to control this behavior.\n",
      "  _warn_prf(average, modifier, msg_start, len(result))\n"
     ]
    }
   ],
   "source": [
    "from sklearn.metrics import confusion_matrix,classification_report\n",
    "print(confusion_matrix(y_test,y_pred))\n",
    "print(\"\\n\")\n",
    "print(classification_report(y_test,y_pred))"
   ]
  },
  {
   "cell_type": "code",
   "execution_count": 305,
   "id": "7e2ec5ed",
   "metadata": {},
   "outputs": [
    {
     "name": "stdout",
     "output_type": "stream",
     "text": [
      "Training set score for SVM: 0.561482\n",
      "Testing  set score for SVM: 0.542601\n"
     ]
    }
   ],
   "source": [
    "print(\"Training set score for SVM_rbf: %f\" % final_model.score(X_train , y_train))\n",
    "print(\"Testing  set score for SVM_rbf: %f\" % final_model.score(X_test  , y_test ))"
   ]
  },
  {
   "cell_type": "markdown",
   "id": "a05cb7fc",
   "metadata": {},
   "source": [
    "# Decision Tree Classifier"
   ]
  },
  {
   "cell_type": "code",
   "execution_count": 273,
   "id": "44a5d645",
   "metadata": {},
   "outputs": [
    {
     "name": "stdout",
     "output_type": "stream",
     "text": [
      "[[227  15]\n",
      " [ 14 190]]\n",
      "\n",
      "\n",
      "              precision    recall  f1-score   support\n",
      "\n",
      "         0.0       0.94      0.94      0.94       242\n",
      "         1.0       0.93      0.93      0.93       204\n",
      "\n",
      "    accuracy                           0.93       446\n",
      "   macro avg       0.93      0.93      0.93       446\n",
      "weighted avg       0.94      0.93      0.93       446\n",
      "\n"
     ]
    }
   ],
   "source": [
    "from sklearn.tree import DecisionTreeClassifier\n",
    "from sklearn.ensemble import AdaBoostClassifier\n",
    "base_estimator=DecisionTreeClassifier(max_depth=17,criterion='gini', splitter='best', min_samples_split=5)\n",
    "model = AdaBoostClassifier(base_estimator=base_estimator,n_estimators=150,learning_rate=0.0001)\n",
    "model=model.fit(X_train, y_train)\n",
    "\n",
    "#prediction\n",
    "y_pred = model.predict(X_test)\n",
    "\n",
    "\n",
    "\n",
    "print(confusion_matrix(y_test,y_pred))\n",
    "print(\"\\n\")\n",
    "print(classification_report(y_test,y_pred))"
   ]
  },
  {
   "cell_type": "code",
   "execution_count": 274,
   "id": "3fde8b69",
   "metadata": {},
   "outputs": [
    {
     "name": "stdout",
     "output_type": "stream",
     "text": [
      "Training set score for SVM: 0.972487\n",
      "Testing  set score for SVM: 0.934978\n"
     ]
    }
   ],
   "source": [
    "print(\"Training set score for DT: %f\" % model.score(X_train , y_train))\n",
    "print(\"Testing  set score for DT: %f\" % model.score(X_test  , y_test ))"
   ]
  },
  {
   "cell_type": "markdown",
   "id": "58bbbd80",
   "metadata": {},
   "source": [
    "#  KNN"
   ]
  },
  {
   "cell_type": "code",
   "execution_count": 275,
   "id": "eb34e9a0",
   "metadata": {},
   "outputs": [],
   "source": [
    "from sklearn.neighbors import KNeighborsClassifier"
   ]
  },
  {
   "cell_type": "code",
   "execution_count": 298,
   "id": "c1e580c8",
   "metadata": {},
   "outputs": [
    {
     "name": "stdout",
     "output_type": "stream",
     "text": [
      "[[203  39]\n",
      " [149  55]]\n",
      "\n",
      "\n",
      "              precision    recall  f1-score   support\n",
      "\n",
      "         0.0       0.58      0.84      0.68       242\n",
      "         1.0       0.59      0.27      0.37       204\n",
      "\n",
      "    accuracy                           0.58       446\n",
      "   macro avg       0.58      0.55      0.53       446\n",
      "weighted avg       0.58      0.58      0.54       446\n",
      "\n"
     ]
    }
   ],
   "source": [
    "knn = KNeighborsClassifier(n_neighbors=2,leaf_size=10)\n",
    "knn.fit(X_train, y_train)\n",
    "y_pred=knn.predict(X_test)\n",
    "print(confusion_matrix(y_test,y_pred))\n",
    "print(\"\\n\")\n",
    "print(classification_report(y_test,y_pred))"
   ]
  },
  {
   "cell_type": "code",
   "execution_count": 299,
   "id": "829e1499",
   "metadata": {},
   "outputs": [
    {
     "name": "stdout",
     "output_type": "stream",
     "text": [
      "Training set score for SVM: 0.780460\n",
      "Testing  set score for SVM: 0.578475\n"
     ]
    }
   ],
   "source": [
    "print(\"Training set score for KNN: %f\" % knn.score(X_train , y_train))\n",
    "print(\"Testing  set score for KNN: %f\" % knn.score(X_test  , y_test ))"
   ]
  },
  {
   "cell_type": "markdown",
   "id": "70971473",
   "metadata": {},
   "source": [
    "# Comparison"
   ]
  },
  {
   "cell_type": "markdown",
   "id": "a58252b1",
   "metadata": {},
   "source": [
    "After using all the types of algorithm as said in instruction. I am able to get highest accuracy while using Dicision Tree Classifier using AdaBoostClassifier. MY training accuracy is around 97% and test accuracy is around=93.5 %. In 2nd place we KNN has the better performance with Training accuarcy is 78% and test accuracy is 57%. SVM is also not performing well in this dataset. THis is because  SVM uses the kernel trick to turn a linearly nonseparable problem into a linearly separable one (unless of course we use the linear kernel), while decision trees (and forests based on them, and boosted trees, both to a lesser extent due to the nature of the ensemble algorithms) split the input space into hyper-rectangles according to the target. \n",
    "Thank you. "
   ]
  }
 ],
 "metadata": {
  "kernelspec": {
   "display_name": "Python 3 (ipykernel)",
   "language": "python",
   "name": "python3"
  },
  "language_info": {
   "codemirror_mode": {
    "name": "ipython",
    "version": 3
   },
   "file_extension": ".py",
   "mimetype": "text/x-python",
   "name": "python",
   "nbconvert_exporter": "python",
   "pygments_lexer": "ipython3",
   "version": "3.8.5"
  }
 },
 "nbformat": 4,
 "nbformat_minor": 5
}
