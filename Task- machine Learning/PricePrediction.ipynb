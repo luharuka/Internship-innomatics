{
 "cells": [
  {
   "cell_type": "markdown",
   "id": "a2c8d697",
   "metadata": {},
   "source": [
    "<h1> K-NN Regression From Scratch"
   ]
  },
  {
   "cell_type": "code",
   "execution_count": null,
   "id": "91ef8df2",
   "metadata": {},
   "outputs": [],
   "source": [
    "#import all important libraries\n",
    "import pandas as pd\n",
    "import seaborn as sns\n",
    "import numpy as np\n",
    "import matplotlib.pyplot as plt\n",
    "import sklearn\n",
    "from copy import deepcopy\n",
    "import operator"
   ]
  },
  {
   "cell_type": "code",
   "execution_count": null,
   "id": "19c6440b",
   "metadata": {},
   "outputs": [],
   "source": [
    "#load dataset\n",
    "data=pd.read_csv('diamonds.csv')\n",
    "data.head()"
   ]
  },
  {
   "cell_type": "code",
   "execution_count": null,
   "id": "97652fc1",
   "metadata": {},
   "outputs": [],
   "source": [
    "print(data.info())"
   ]
  },
  {
   "cell_type": "code",
   "execution_count": null,
   "id": "99414a20",
   "metadata": {},
   "outputs": [],
   "source": [
    "#seperating columns for encoding\n",
    "for i in data.columns:\n",
    "    if data[i].dtype=='object':\n",
    "        print(i)\n",
    "        print(data[i].unique())\n",
    "        print(\"Length of unique is\",len(data[i].unique()))"
   ]
  },
  {
   "cell_type": "code",
   "execution_count": null,
   "id": "703dd5e4",
   "metadata": {},
   "outputs": [],
   "source": [
    "# label encoding and Onehotencoding of column\n",
    "from sklearn.preprocessing import LabelEncoder,OneHotEncoder\n",
    "#label encoding\n",
    "data['color']=LabelEncoder().fit_transform(data['color'])\n",
    "data['clarity']=LabelEncoder().fit_transform(data['clarity'])\n",
    "\n",
    "#Onehot encoding\n",
    "encoder=OneHotEncoder()\n",
    "encoded_df=pd.DataFrame(encoder.fit_transform(data[['cut']]).toarray())\n",
    "data=data.join(encoded_df)\n",
    "data.drop(columns=['cut'],inplace=True)\n",
    "data=data[['carat','color','clarity','depth','table','x','y','z',0,1,2,3,4,'price']]"
   ]
  },
  {
   "cell_type": "code",
   "execution_count": null,
   "id": "754a5c4e",
   "metadata": {},
   "outputs": [],
   "source": [
    "<h3> EDA of dataset </h3>"
   ]
  },
  {
   "cell_type": "code",
   "execution_count": null,
   "id": "d714eba7",
   "metadata": {},
   "outputs": [],
   "source": [
    "#histogram and boxplot of the the column 'carat' \n",
    "plt.hist(data['carat'],bins=50)\n",
    "plt.show()\n",
    "plt.boxplot(data['carat'])\n",
    "plt.show()"
   ]
  },
  {
   "cell_type": "markdown",
   "id": "59518b06",
   "metadata": {},
   "source": [
    "<p><b> It is right skewed. There are some outliers also available </b></p>"
   ]
  },
  {
   "cell_type": "code",
   "execution_count": null,
   "id": "ef94fb30",
   "metadata": {},
   "outputs": [],
   "source": [
    "<p> Replacing Outliers with Nan value and fill it with mean of column</p>"
   ]
  },
  {
   "cell_type": "code",
   "execution_count": null,
   "id": "21658cef",
   "metadata": {},
   "outputs": [],
   "source": [
    "a=data[data['carat']>=3].index\n",
    "for i in a:\n",
    "    data.at[i,'carat']=np.nan\n",
    "data['carat'].fillna(data['carat'].mean(),inplace=True)\n",
    "data['carat'].mean()\n",
    "plt.boxplot(data['carat'])\n",
    "plt.show()"
   ]
  },
  {
   "cell_type": "code",
   "execution_count": null,
   "id": "20216791",
   "metadata": {},
   "outputs": [],
   "source": [
    "#define some mathematical function to make the values normally distributed\n",
    "import math\n",
    "def logi(x):\n",
    "    return math.log2(x)\n",
    "def sqrt(x):\n",
    "    return x**0.5\n",
    "def repi(x):\n",
    "    return 1/x"
   ]
  },
  {
   "cell_type": "code",
   "execution_count": null,
   "id": "69ef94a6",
   "metadata": {},
   "outputs": [],
   "source": [
    "data1=pd.DataFrame()\n",
    "data1['carat']=data['carat'].apply(logi)\n",
    "data['carat']=data1['carat']"
   ]
  },
  {
   "cell_type": "code",
   "execution_count": null,
   "id": "747d1c1e",
   "metadata": {},
   "outputs": [],
   "source": [
    "plt.boxplot(data['carat'])\n",
    "plt.show()"
   ]
  },
  {
   "cell_type": "markdown",
   "id": "a9dd9f38",
   "metadata": {},
   "source": [
    "<p> After applying log on the column it changes to normally distributed column.</p>"
   ]
  },
  {
   "cell_type": "code",
   "execution_count": null,
   "id": "7fe1c062",
   "metadata": {},
   "outputs": [],
   "source": [
    "#count plot of different color of diamonds\n",
    "sns.countplot(x=data['color'])"
   ]
  },
  {
   "cell_type": "code",
   "execution_count": null,
   "id": "2aa41248",
   "metadata": {},
   "outputs": [],
   "source": [
    "#boxplot of column 'depth'\n",
    "plt.boxplot(data['depth'])\n",
    "plt.show()"
   ]
  },
  {
   "cell_type": "code",
   "execution_count": null,
   "id": "823e3d89",
   "metadata": {},
   "outputs": [],
   "source": [
    "# detect outliers from columns\n",
    "b=data[data['depth']>=73].index\n",
    "c=data[data['depth']<=53].index\n",
    "d=b.append(c)\n",
    "d"
   ]
  },
  {
   "cell_type": "code",
   "execution_count": null,
   "id": "336cf37a",
   "metadata": {},
   "outputs": [],
   "source": [
    "#remove outliers\n",
    "for i in d:\n",
    "    data.at[i,'depth']=np.nan"
   ]
  },
  {
   "cell_type": "code",
   "execution_count": null,
   "id": "c508ac58",
   "metadata": {},
   "outputs": [],
   "source": [
    "data['depth'].fillna(data['depth'].mean(),inplace=True)\n",
    "plt.boxplot(data['depth'])\n",
    "plt.show()"
   ]
  },
  {
   "cell_type": "code",
   "execution_count": null,
   "id": "8887c026",
   "metadata": {},
   "outputs": [],
   "source": [
    "#tranforming of skewed data\n",
    "data1['depth']=data['depth'].apply(repi)\n",
    "data['depth']=data1['depth']"
   ]
  },
  {
   "cell_type": "code",
   "execution_count": null,
   "id": "8c997a66",
   "metadata": {},
   "outputs": [],
   "source": [
    "plt.boxplot(data['depth'])\n",
    "plt.show()"
   ]
  },
  {
   "cell_type": "code",
   "execution_count": null,
   "id": "f1e6ab66",
   "metadata": {},
   "outputs": [],
   "source": [
    "#boxplot of data['x']\n",
    "plt.boxplot(data['x'])\n",
    "plt.show()"
   ]
  },
  {
   "cell_type": "code",
   "execution_count": null,
   "id": "c2ba80b3",
   "metadata": {},
   "outputs": [],
   "source": [
    "#remove outliers\n",
    "b=data[data['x']>=9].index\n",
    "c=data[data['x']<=3].index\n",
    "d=b.append(c)\n",
    "d"
   ]
  },
  {
   "cell_type": "code",
   "execution_count": null,
   "id": "2dbff2ac",
   "metadata": {},
   "outputs": [],
   "source": [
    "for i in d:\n",
    "    data.at[i,'x']=np.nan"
   ]
  },
  {
   "cell_type": "code",
   "execution_count": null,
   "id": "180a2ffb",
   "metadata": {},
   "outputs": [],
   "source": [
    "data['x'].fillna(data['x'].mean(),inplace=True)\n",
    "plt.boxplot(data['x'])\n",
    "plt.show()"
   ]
  },
  {
   "cell_type": "code",
   "execution_count": null,
   "id": "bb7b1d62",
   "metadata": {},
   "outputs": [],
   "source": [
    "data1['x']=data['x'].apply(repi)\n",
    "data['x']=data1['x']"
   ]
  },
  {
   "cell_type": "code",
   "execution_count": null,
   "id": "413faab1",
   "metadata": {},
   "outputs": [],
   "source": [
    "plt.boxplot(data['x'])"
   ]
  },
  {
   "cell_type": "code",
   "execution_count": null,
   "id": "02d2c0db",
   "metadata": {},
   "outputs": [],
   "source": [
    "plt.boxplot(data['y'])\n",
    "plt.show()"
   ]
  },
  {
   "cell_type": "code",
   "execution_count": null,
   "id": "37a96431",
   "metadata": {},
   "outputs": [],
   "source": [
    "b=data[data['y']>=12].index\n",
    "c=data[data['y']<=3].index\n",
    "d=b.append(c)\n",
    "d"
   ]
  },
  {
   "cell_type": "code",
   "execution_count": null,
   "id": "166afc29",
   "metadata": {},
   "outputs": [],
   "source": [
    "for i in d:\n",
    "    data.at[i,'y']=np.nan"
   ]
  },
  {
   "cell_type": "code",
   "execution_count": null,
   "id": "17c69564",
   "metadata": {},
   "outputs": [],
   "source": [
    "data['y'].fillna(data['y'].mean(),inplace=True)\n",
    "plt.boxplot(data['y'])\n",
    "plt.show()"
   ]
  },
  {
   "cell_type": "code",
   "execution_count": null,
   "id": "675be185",
   "metadata": {},
   "outputs": [],
   "source": [
    "data1['y']=data['y'].apply(repi)\n",
    "data['y']=data1['y']\n",
    "plt.boxplot(data['y'])\n",
    "plt.show()"
   ]
  },
  {
   "cell_type": "code",
   "execution_count": null,
   "id": "c799b63b",
   "metadata": {},
   "outputs": [],
   "source": [
    "plt.boxplot(data['z'])\n",
    "plt.show()"
   ]
  },
  {
   "cell_type": "code",
   "execution_count": null,
   "id": "fc8290ca",
   "metadata": {},
   "outputs": [],
   "source": [
    "b=data[data['z']>=10].index\n",
    "c=data[data['z']<=0].index\n",
    "d=b.append(c)\n",
    "d"
   ]
  },
  {
   "cell_type": "code",
   "execution_count": null,
   "id": "5e7a6a29",
   "metadata": {},
   "outputs": [],
   "source": [
    "for i in d:\n",
    "    data.at[i,'z']=np.nan"
   ]
  },
  {
   "cell_type": "code",
   "execution_count": null,
   "id": "11c4d27d",
   "metadata": {},
   "outputs": [],
   "source": [
    "data['z'].fillna(data['z'].mean(),inplace=True)\n",
    "plt.boxplot(data['z'])\n",
    "plt.show()"
   ]
  },
  {
   "cell_type": "code",
   "execution_count": null,
   "id": "f141b2fc",
   "metadata": {
    "scrolled": true
   },
   "outputs": [],
   "source": [
    "data1['z']=data['z'].apply(logi)\n",
    "data['z']=data1['z']\n",
    "plt.boxplot(data['z'])\n",
    "plt.show()"
   ]
  },
  {
   "cell_type": "code",
   "execution_count": null,
   "id": "1c934c7d",
   "metadata": {},
   "outputs": [],
   "source": [
    "#dataset preprocessing\n",
    "from sklearn import preprocessing\n",
    "\n",
    "X=data.iloc[:,:-1]\n",
    "\n",
    "y=data['price']\n",
    "\n",
    "min_max_scaler=preprocessing.MinMaxScaler()\n",
    "x_scaled=min_max_scaler.fit_transform(X)\n",
    "X=pd.DataFrame(x_scaled)\n",
    "\n",
    "from sklearn.model_selection import train_test_split\n",
    "X_train, X_test, Y_train, Y_test=train_test_split(X,y,test_size=0.1,random_state=42)"
   ]
  },
  {
   "cell_type": "code",
   "execution_count": null,
   "id": "ef9d887a",
   "metadata": {},
   "outputs": [],
   "source": [
    "\n",
    "Y_train=pd.DataFrame(Y_train).reset_index()\n",
    "Y_test=pd.DataFrame(Y_test).reset_index()\n",
    "Y_train.drop('index',axis=1,inplace=True)\n",
    "Y_test.drop('index',axis=1,inplace=True)"
   ]
  },
  {
   "cell_type": "markdown",
   "id": "497f2cc9",
   "metadata": {},
   "source": [
    "<h2> KNN from SKlearn</h2>"
   ]
  },
  {
   "cell_type": "code",
   "execution_count": null,
   "id": "ba52a0ba",
   "metadata": {},
   "outputs": [],
   "source": [
    "#Implentation of Knn from sklearn\n",
    "from sklearn.neighbors import KNeighborsRegressor\n",
    "from sklearn.metrics import mean_squared_error,accuracy_score\n",
    "pred_error=[]\n",
    "for k in range(1,5):\n",
    "    knn_model=KNeighborsRegressor(n_neighbors=k)\n",
    "    knn_model.fit(X_train,Y_train)\n",
    "    pred=knn_model.predict(X_test)\n",
    "    error=sqrt(mean_squared_error(Y_test,pred))\n",
    "    pred_error.append(error)"
   ]
  },
  {
   "cell_type": "code",
   "execution_count": null,
   "id": "dfc0a8ec",
   "metadata": {},
   "outputs": [],
   "source": [
    "# elbow analysis\n",
    "plt.plot(pred_error)"
   ]
  },
  {
   "cell_type": "markdown",
   "id": "ab8236d6",
   "metadata": {},
   "source": [
    "<h3>From elbow analysis the Perfect value of K=3</h3>"
   ]
  },
  {
   "cell_type": "code",
   "execution_count": null,
   "id": "20d0378d",
   "metadata": {},
   "outputs": [],
   "source": [
    "knn_model=KNeighborsRegressor(n_neighbors=3)\n",
    "knn_model.fit(X_train,Y_train)\n",
    "pred=knn_model.predict(X_test)\n",
    "error=sqrt(mean_squared_error(Y_test,pred))\n",
    "print(\"Root mean Squared Error from knn of sklearn is :\",error)"
   ]
  },
  {
   "cell_type": "code",
   "execution_count": null,
   "id": "acfc6761",
   "metadata": {},
   "outputs": [],
   "source": [
    "# some more preprocessing\n",
    "X_train.reset_index(inplace=True)\n",
    "X_test.reset_index(inplace=True)"
   ]
  },
  {
   "cell_type": "code",
   "execution_count": null,
   "id": "51db089c",
   "metadata": {},
   "outputs": [],
   "source": [
    "X_train.drop(['index'],axis=1,inplace=True)\n",
    "X_test.drop(['index'],axis=1,inplace=True)"
   ]
  },
  {
   "cell_type": "markdown",
   "id": "76f9fd4c",
   "metadata": {},
   "source": [
    "<h2> KNN from scratch </h2>"
   ]
  },
  {
   "cell_type": "code",
   "execution_count": null,
   "id": "d16e79b6",
   "metadata": {},
   "outputs": [],
   "source": [
    "# ecludian diatance\n",
    "def eclud_dist(a,b):\n",
    "    return np.sqrt(np.sum((a-b)**2))"
   ]
  },
  {
   "cell_type": "code",
   "execution_count": null,
   "id": "cfbac70d",
   "metadata": {},
   "outputs": [],
   "source": [
    "# get neighbor values data\n",
    "def neighbor(data,instance,k):\n",
    "    neighborhood=[]\n",
    "    for i in range(len(data)):\n",
    "        dist=eclud_dist(data.iloc[i],instance)\n",
    "        neighborhood.append((i,dist))\n",
    "    neighborhood.sort(key=lambda y:y[1])\n",
    "    return neighborhood[:k]"
   ]
  },
  {
   "cell_type": "code",
   "execution_count": null,
   "id": "58b2c6a5",
   "metadata": {},
   "outputs": [],
   "source": [
    "k=3\n",
    "train_data=X_train\n",
    "train_target=Y_train"
   ]
  },
  {
   "cell_type": "code",
   "execution_count": null,
   "id": "99c36cc0",
   "metadata": {},
   "outputs": [],
   "source": [
    "#get regression value\n",
    "def predict(instance):\n",
    "    neigh=neighbor(train_data,instance,k)\n",
    "    sumi=0\n",
    "    length=len(neigh)\n",
    "    for i in range(length):\n",
    "        sumi+=train_target.iloc[neigh[i][0]]\n",
    "    return sumi/length"
   ]
  },
  {
   "cell_type": "code",
   "execution_count": null,
   "id": "74eeef47",
   "metadata": {},
   "outputs": [],
   "source": [
    "pred_own_model=X_test.apply(predict)"
   ]
  },
  {
   "cell_type": "code",
   "execution_count": null,
   "id": "afda6d75",
   "metadata": {},
   "outputs": [],
   "source": [
    "error_my_model=sqrt(mean_squared_error(Y_test,pred))\n",
    "print(\"Root mean Squared Error from my knn :\",error_my_model)"
   ]
  },
  {
   "cell_type": "code",
   "execution_count": null,
   "id": "c9968df5",
   "metadata": {},
   "outputs": [],
   "source": []
  },
  {
   "cell_type": "code",
   "execution_count": null,
   "id": "a163464e",
   "metadata": {},
   "outputs": [],
   "source": []
  },
  {
   "cell_type": "code",
   "execution_count": null,
   "id": "15b2ef1f",
   "metadata": {},
   "outputs": [],
   "source": []
  },
  {
   "cell_type": "code",
   "execution_count": null,
   "id": "8a1e4ed5",
   "metadata": {},
   "outputs": [],
   "source": []
  }
 ],
 "metadata": {
  "kernelspec": {
   "display_name": "Python 3 (ipykernel)",
   "language": "python",
   "name": "python3"
  },
  "language_info": {
   "codemirror_mode": {
    "name": "ipython",
    "version": 3
   },
   "file_extension": ".py",
   "mimetype": "text/x-python",
   "name": "python",
   "nbconvert_exporter": "python",
   "pygments_lexer": "ipython3",
   "version": "3.8.5"
  }
 },
 "nbformat": 4,
 "nbformat_minor": 5
}
